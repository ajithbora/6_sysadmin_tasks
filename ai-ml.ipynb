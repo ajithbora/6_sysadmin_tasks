{
  "nbformat": 4,
  "nbformat_minor": 0,
  "metadata": {
    "colab": {
      "provenance": [],
      "authorship_tag": "ABX9TyPeIL+l21LLjzJrZfVINJcc",
      "include_colab_link": true
    },
    "kernelspec": {
      "name": "python3",
      "display_name": "Python 3"
    },
    "language_info": {
      "name": "python"
    }
  },
  "cells": [
    {
      "cell_type": "markdown",
      "metadata": {
        "id": "view-in-github",
        "colab_type": "text"
      },
      "source": [
        "<a href=\"https://colab.research.google.com/github/ajithbora/6_sysadmin_tasks/blob/main/ai-ml.ipynb\" target=\"_parent\"><img src=\"https://colab.research.google.com/assets/colab-badge.svg\" alt=\"Open In Colab\"/></a>"
      ]
    },
    {
      "cell_type": "code",
      "execution_count": null,
      "metadata": {
        "id": "TRna_jl6I2rk"
      },
      "outputs": [],
      "source": []
    },
    {
      "cell_type": "code",
      "source": [
        "import numpy as np\n",
        "\n",
        "# Creating arrays\n",
        "array_1d = np.array([1, 2, 3, 4, 5])\n",
        "array_2d = np.array([[1, 2, 3], [4, 5, 6]])\n",
        "\n",
        "# Creating special arrays\n",
        "zeros = np.zeros((3, 3))  # 3x3 array of zeros\n",
        "ones = np.ones((2, 4))    # 2x4 array of ones\n",
        "random_array = np.random.rand(3, 3)  # 3x3 array of random numbers\n",
        "\n",
        "# Basic operations\n",
        "a = np.array([1, 2, 3])\n",
        "b = np.array([4, 5, 6])\n",
        "\n",
        "# Addition\n",
        "print(\"Addition:\", a + b)  # [5 7 9]\n",
        "\n",
        "# Multiplication (element-wise)\n",
        "print(\"Multiplication:\", a * b)  # [4 10 18]\n"
      ],
      "metadata": {
        "colab": {
          "base_uri": "https://localhost:8080/"
        },
        "id": "Z5Cd7FO_I5G9",
        "outputId": "770b2aa8-7f61-4064-e6f6-f4ef91608a49"
      },
      "execution_count": 1,
      "outputs": [
        {
          "output_type": "stream",
          "name": "stdout",
          "text": [
            "Addition: [5 7 9]\n",
            "Multiplication: [ 4 10 18]\n"
          ]
        }
      ]
    }
  ]
}